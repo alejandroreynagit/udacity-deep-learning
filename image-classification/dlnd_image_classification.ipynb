{
 "cells": [
  {
   "cell_type": "markdown",
   "metadata": {
    "collapsed": true,
    "deletable": true,
    "editable": true
   },
   "source": [
    "# Image Classification\n",
    "In this project, you'll classify images from the [CIFAR-10 dataset](https://www.cs.toronto.edu/~kriz/cifar.html).  The dataset consists of airplanes, dogs, cats, and other objects. You'll preprocess the images, then train a convolutional neural network on all the samples. The images need to be normalized and the labels need to be one-hot encoded.  You'll get to apply what you learned and build a convolutional, max pooling, dropout, and fully connected layers.  At the end, you'll get to see your neural network's predictions on the sample images.\n",
    "## Get the Data\n",
    "Run the following cell to download the [CIFAR-10 dataset for python](https://www.cs.toronto.edu/~kriz/cifar-10-python.tar.gz)."
   ]
  },
  {
   "cell_type": "code",
   "execution_count": 43,
   "metadata": {
    "collapsed": false,
    "deletable": true,
    "editable": true
   },
   "outputs": [
    {
     "name": "stdout",
     "output_type": "stream",
     "text": [
      "All files found!\n"
     ]
    }
   ],
   "source": [
    "\"\"\"\n",
    "DON'T MODIFY ANYTHING IN THIS CELL THAT IS BELOW THIS LINE\n",
    "\"\"\"\n",
    "from urllib.request import urlretrieve\n",
    "from os.path import isfile, isdir\n",
    "from tqdm import tqdm\n",
    "import problem_unittests as tests\n",
    "import tarfile\n",
    "\n",
    "cifar10_dataset_folder_path = 'cifar-10-batches-py'\n",
    "\n",
    "class DLProgress(tqdm):\n",
    "    last_block = 0\n",
    "\n",
    "    def hook(self, block_num=1, block_size=1, total_size=None):\n",
    "        self.total = total_size\n",
    "        self.update((block_num - self.last_block) * block_size)\n",
    "        self.last_block = block_num\n",
    "\n",
    "if not isfile('cifar-10-python.tar.gz'):\n",
    "    with DLProgress(unit='B', unit_scale=True, miniters=1, desc='CIFAR-10 Dataset') as pbar:\n",
    "        urlretrieve(\n",
    "            'https://www.cs.toronto.edu/~kriz/cifar-10-python.tar.gz',\n",
    "            'cifar-10-python.tar.gz',\n",
    "            pbar.hook)\n",
    "\n",
    "if not isdir(cifar10_dataset_folder_path):\n",
    "    with tarfile.open('cifar-10-python.tar.gz') as tar:\n",
    "        tar.extractall()\n",
    "        tar.close()\n",
    "\n",
    "\n",
    "tests.test_folder_path(cifar10_dataset_folder_path)"
   ]
  },
  {
   "cell_type": "markdown",
   "metadata": {
    "deletable": true,
    "editable": true
   },
   "source": [
    "## Explore the Data\n",
    "The dataset is broken into batches to prevent your machine from running out of memory.  The CIFAR-10 dataset consists of 5 batches, named `data_batch_1`, `data_batch_2`, etc.. Each batch contains the labels and images that are one of the following:\n",
    "* airplane\n",
    "* automobile\n",
    "* bird\n",
    "* cat\n",
    "* deer\n",
    "* dog\n",
    "* frog\n",
    "* horse\n",
    "* ship\n",
    "* truck\n",
    "\n",
    "Understanding a dataset is part of making predictions on the data.  Play around with the code cell below by changing the `batch_id` and `sample_id`. The `batch_id` is the id for a batch (1-5). The `sample_id` is the id for a image and label pair in the batch.\n",
    "\n",
    "Ask yourself \"What are all possible labels?\", \"What is the range of values for the image data?\", \"Are the labels in order or random?\".  Answers to questions like these will help you preprocess the data and end up with better predictions."
   ]
  },
  {
   "cell_type": "code",
   "execution_count": 44,
   "metadata": {
    "collapsed": false,
    "deletable": true,
    "editable": true
   },
   "outputs": [
    {
     "name": "stdout",
     "output_type": "stream",
     "text": [
      "\n",
      "Stats of batch 1:\n",
      "Samples: 10000\n",
      "Label Counts: {0: 1005, 1: 974, 2: 1032, 3: 1016, 4: 999, 5: 937, 6: 1030, 7: 1001, 8: 1025, 9: 981}\n",
      "First 20 Labels: [6, 9, 9, 4, 1, 1, 2, 7, 8, 3, 4, 7, 7, 2, 9, 9, 9, 3, 2, 6]\n",
      "\n",
      "Example of Image 5:\n",
      "Image - Min Value: 0 Max Value: 252\n",
      "Image - Shape: (32, 32, 3)\n",
      "Label - Label Id: 1 Name: automobile\n"
     ]
    },
    {
     "data": {
      "image/png": "[encoded data removed]",
      "text/plain": [
       "<matplotlib.figure.Figure at 0x7fcdc62cbcf8>"
      ]
     },
     "metadata": {
      "image/png": {
       "height": 250,
       "width": 253
      }
     },
     "output_type": "display_data"
    }
   ],
   "source": [
    "%matplotlib inline\n",
    "%config InlineBackend.figure_format = 'retina'\n",
    "\n",
    "import helper\n",
    "import numpy as np\n",
    "\n",
    "# Explore the dataset\n",
    "batch_id = 1\n",
    "sample_id = 5\n",
    "helper.display_stats(cifar10_dataset_folder_path, batch_id, sample_id)"
   ]
  },
  {
   "cell_type": "markdown",
   "metadata": {
    "deletable": true,
    "editable": true
   },
   "source": [
    "## Implement Preprocess Functions\n",
    "### Normalize\n",
    "In the cell below, implement the `normalize` function to take in image data, `x`, and return it as a normalized Numpy array. The values should be in the range of 0 to 1, inclusive.  The return object should be the same shape as `x`."
   ]
  },
  {
   "cell_type": "code",
   "execution_count": 45,
   "metadata": {
    "collapsed": false,
    "deletable": true,
    "editable": true
   },
   "outputs": [
    {
     "name": "stdout",
     "output_type": "stream",
     "text": [
      "Tests Passed\n"
     ]
    }
   ],
   "source": [
    "def normalize(x):\n",
    "    \"\"\"\n",
    "    Normalize a list of sample image data in the range of 0 to 1\n",
    "    : x: List of image data.  The image shape is (32, 32, 3)\n",
    "    : return: Numpy array of normalize data\n",
    "    \"\"\"\n",
    "    x_max = x.max()\n",
    "    x_min = x.min()\n",
    "    return (x - x_min) / (x_max - x_min)\n",
    "\n",
    "\n",
    "\"\"\"\n",
    "DON'T MODIFY ANYTHING IN THIS CELL THAT IS BELOW THIS LINE\n",
    "\"\"\"\n",
    "tests.test_normalize(normalize)"
   ]
  },
  {
   "cell_type": "markdown",
   "metadata": {
    "deletable": true,
    "editable": true
   },
   "source": [
    "### One-hot encode\n",
    "Just like the previous code cell, you'll be implementing a function for preprocessing.  This time, you'll implement the `one_hot_encode` function. The input, `x`, are a list of labels.  Implement the function to return the list of labels as One-Hot encoded Numpy array.  The possible values for labels are 0 to 9. The one-hot encoding function should return the same encoding for each value between each call to `one_hot_encode`.  Make sure to save the map of encodings outside the function.\n",
    "\n",
    "Hint: Don't reinvent the wheel."
   ]
  },
  {
   "cell_type": "code",
   "execution_count": 46,
   "metadata": {
    "collapsed": false,
    "deletable": true,
    "editable": true
   },
   "outputs": [
    {
     "name": "stdout",
     "output_type": "stream",
     "text": [
      "Tests Passed\n"
     ]
    }
   ],
   "source": [
    "def one_hot_encode(x):\n",
    "    \"\"\"\n",
    "    One hot encode a list of sample labels. Return a one-hot encoded vector for each label.\n",
    "    : x: List of sample Labels\n",
    "    : return: Numpy array of one-hot encoded labels\n",
    "    \"\"\"\n",
    "    return np.eye(10)[x]\n",
    "\n",
    "\n",
    "\"\"\"\n",
    "DON'T MODIFY ANYTHING IN THIS CELL THAT IS BELOW THIS LINE\n",
    "\"\"\"\n",
    "tests.test_one_hot_encode(one_hot_encode)"
   ]
  },
  {
   "cell_type": "markdown",
   "metadata": {
    "deletable": true,
    "editable": true
   },
   "source": [
    "### Randomize Data\n",
    "As you saw from exploring the data above, the order of the samples are randomized.  It doesn't hurt to randomize it again, but you don't need to for this dataset."
   ]
  },
  {
   "cell_type": "markdown",
   "metadata": {
    "deletable": true,
    "editable": true
   },
   "source": [
    "## Preprocess all the data and save it\n",
    "Running the code cell below will preprocess all the CIFAR-10 data and save it to file. The code below also uses 10% of the training data for validation."
   ]
  },
  {
   "cell_type": "code",
   "execution_count": 47,
   "metadata": {
    "collapsed": false,
    "deletable": true,
    "editable": true
   },
   "outputs": [],
   "source": [
    "\"\"\"\n",
    "DON'T MODIFY ANYTHING IN THIS CELL\n",
    "\"\"\"\n",
    "# Preprocess Training, Validation, and Testing Data\n",
    "helper.preprocess_and_save_data(cifar10_dataset_folder_path, normalize, one_hot_encode)"
   ]
  },
  {
   "cell_type": "markdown",
   "metadata": {
    "deletable": true,
    "editable": true
   },
   "source": [
    "# Check Point\n",
    "This is your first checkpoint.  If you ever decide to come back to this notebook or have to restart the notebook, you can start from here.  The preprocessed data has been saved to disk."
   ]
  },
  {
   "cell_type": "code",
   "execution_count": 48,
   "metadata": {
    "collapsed": false,
    "deletable": true,
    "editable": true
   },
   "outputs": [],
   "source": [
    "\"\"\"\n",
    "DON'T MODIFY ANYTHING IN THIS CELL\n",
    "\"\"\"\n",
    "import pickle\n",
    "import problem_unittests as tests\n",
    "import helper\n",
    "\n",
    "# Load the Preprocessed Validation data\n",
    "valid_features, valid_labels = pickle.load(open('preprocess_validation.p', mode='rb'))"
   ]
  },
  {
   "cell_type": "markdown",
   "metadata": {
    "deletable": true,
    "editable": true
   },
   "source": [
    "## Build the network\n",
    "For the neural network, you'll build each layer into a function.  Most of the code you've seen has been outside of functions. To test your code more thoroughly, we require that you put each layer in a function.  This allows us to give you better feedback and test for simple mistakes using our unittests before you submit your project.\n",
    "\n",
    ">**Note:** If you're finding it hard to dedicate enough time for this course each week, we've provided a small shortcut to this part of the project. In the next couple of problems, you'll have the option to use classes from the [TensorFlow Layers](https://www.tensorflow.org/api_docs/python/tf/layers) or [TensorFlow Layers (contrib)](https://www.tensorflow.org/api_guides/python/contrib.layers) packages to build each layer, except the layers you build in the \"Convolutional and Max Pooling Layer\" section.  TF Layers is similar to Keras's and TFLearn's abstraction to layers, so it's easy to pickup.\n",
    "\n",
    ">However, if you would like to get the most out of this course, try to solve all the problems _without_ using anything from the TF Layers packages. You **can** still use classes from other packages that happen to have the same name as ones you find in TF Layers! For example, instead of using the TF Layers version of the `conv2d` class, [tf.layers.conv2d](https://www.tensorflow.org/api_docs/python/tf/layers/conv2d), you would want to use the TF Neural Network version of `conv2d`, [tf.nn.conv2d](https://www.tensorflow.org/api_docs/python/tf/nn/conv2d). \n",
    "\n",
    "Let's begin!\n",
    "\n",
    "### Input\n",
    "The neural network needs to read the image data, one-hot encoded labels, and dropout keep probability. Implement the following functions\n",
    "* Implement `neural_net_image_input`\n",
    " * Return a [TF Placeholder](https://www.tensorflow.org/api_docs/python/tf/placeholder)\n",
    " * Set the shape using `image_shape` with batch size set to `None`.\n",
    " * Name the TensorFlow placeholder \"x\" using the TensorFlow `name` parameter in the [TF Placeholder](https://www.tensorflow.org/api_docs/python/tf/placeholder).\n",
    "* Implement `neural_net_label_input`\n",
    " * Return a [TF Placeholder](https://www.tensorflow.org/api_docs/python/tf/placeholder)\n",
    " * Set the shape using `n_classes` with batch size set to `None`.\n",
    " * Name the TensorFlow placeholder \"y\" using the TensorFlow `name` parameter in the [TF Placeholder](https://www.tensorflow.org/api_docs/python/tf/placeholder).\n",
    "* Implement `neural_net_keep_prob_input`\n",
    " * Return a [TF Placeholder](https://www.tensorflow.org/api_docs/python/tf/placeholder) for dropout keep probability.\n",
    " * Name the TensorFlow placeholder \"keep_prob\" using the TensorFlow `name` parameter in the [TF Placeholder](https://www.tensorflow.org/api_docs/python/tf/placeholder).\n",
    "\n",
    "These names will be used at the end of the project to load your saved model.\n",
    "\n",
    "Note: `None` for shapes in TensorFlow allow for a dynamic size."
   ]
  },
  {
   "cell_type": "code",
   "execution_count": 49,
   "metadata": {
    "collapsed": false,
    "deletable": true,
    "editable": true
   },
   "outputs": [
    {
     "name": "stdout",
     "output_type": "stream",
     "text": [
      "Image Input Tests Passed.\n",
      "Label Input Tests Passed.\n",
      "Keep Prob Tests Passed.\n"
     ]
    }
   ],
   "source": [
    "import tensorflow as tf\n",
    "\n",
    "def neural_net_image_input(image_shape):\n",
    "    \"\"\"\n",
    "    Return a Tensor for a bach of image input\n",
    "    : image_shape: Shape of the images\n",
    "    : return: Tensor for image input.\n",
    "    \"\"\"\n",
    "    height = image_shape[0]\n",
    "    width = image_shape[1]\n",
    "    depth = image_shape[2]\n",
    "    return tf.placeholder(tf.float32, [None, height, width, depth], name='x')\n",
    "\n",
    "\n",
    "def neural_net_label_input(n_classes):\n",
    "    \"\"\"\n",
    "    Return a Tensor for a batch of label input\n",
    "    : n_classes: Number of classes\n",
    "    : return: Tensor for label input.\n",
    "    \"\"\"\n",
    "    return tf.placeholder(tf.float32, [None, n_classes], name='y')\n",
    "\n",
    "\n",
    "def neural_net_keep_prob_input():\n",
    "    \"\"\"\n",
    "    Return a Tensor for keep probability\n",
    "    : return: Tensor for keep probability.\n",
    "    \"\"\"\n",
    "    return tf.placeholder(tf.float32, name='keep_prob')\n",
    "\n",
    "\n",
    "\"\"\"\n",
    "DON'T MODIFY ANYTHING IN THIS CELL THAT IS BELOW THIS LINE\n",
    "\"\"\"\n",
    "tf.reset_default_graph()\n",
    "tests.test_nn_image_inputs(neural_net_image_input)\n",
    "tests.test_nn_label_inputs(neural_net_label_input)\n",
    "tests.test_nn_keep_prob_inputs(neural_net_keep_prob_input)"
   ]
  },
  {
   "cell_type": "markdown",
   "metadata": {
    "deletable": true,
    "editable": true
   },
   "source": [
    "### Convolution and Max Pooling Layer\n",
    "Convolution layers have a lot of success with images. For this code cell, you should implement the function `conv2d_maxpool` to apply convolution then max pooling:\n",
    "* Create the weight and bias using `conv_ksize`, `conv_num_outputs` and the shape of `x_tensor`.\n",
    "* Apply a convolution to `x_tensor` using weight and `conv_strides`.\n",
    " * We recommend you use same padding, but you're welcome to use any padding.\n",
    "* Add bias\n",
    "* Add a nonlinear activation to the convolution.\n",
    "* Apply Max Pooling using `pool_ksize` and `pool_strides`.\n",
    " * We recommend you use same padding, but you're welcome to use any padding.\n",
    "\n",
    "**Note:** You **can't** use [TensorFlow Layers](https://www.tensorflow.org/api_docs/python/tf/layers) or [TensorFlow Layers (contrib)](https://www.tensorflow.org/api_guides/python/contrib.layers) for **this** layer, but you can still use TensorFlow's [Neural Network](https://www.tensorflow.org/api_docs/python/tf/nn) package. You may still use the shortcut option for all the **other** layers."
   ]
  },
  {
   "cell_type": "code",
   "execution_count": 50,
   "metadata": {
    "collapsed": false,
    "deletable": true,
    "editable": true
   },
   "outputs": [
    {
     "name": "stdout",
     "output_type": "stream",
     "text": [
      "Tests Passed\n"
     ]
    }
   ],
   "source": [
    "def conv2d_maxpool(x_tensor, conv_num_outputs, conv_ksize, conv_strides, pool_ksize, pool_strides):\n",
    "    \"\"\"\n",
    "    Apply convolution then max pooling to x_tensor\n",
    "    :param x_tensor: TensorFlow Tensor\n",
    "    :param conv_num_outputs: Number of outputs for the convolutional layer\n",
    "    :param conv_ksize: kernal size 2-D Tuple for the convolutional layer\n",
    "    :param conv_strides: Stride 2-D Tuple for convolution\n",
    "    :param pool_ksize: kernal size 2-D Tuple for pool\n",
    "    :param pool_strides: Stride 2-D Tuple for pool\n",
    "    : return: A tensor that represents convolution and max pooling of x_tensor\n",
    "    \"\"\"\n",
    "    padding = 'SAME'\n",
    "    \n",
    "    filter_height = conv_ksize[0]\n",
    "    filter_width = conv_ksize[0]\n",
    "    input_depth = x_tensor.get_shape().as_list()[-1]\n",
    "    \n",
    "    filter_weights = tf.Variable(tf.truncated_normal(\n",
    "        [filter_height, filter_width, input_depth, conv_num_outputs],\n",
    "        mean=0.0, stddev=0.1\n",
    "    ))\n",
    "    filter_bias = tf.Variable(tf.zeros(conv_num_outputs))\n",
    "    \n",
    "    conv_strides = [1, conv_strides[0], conv_strides[1], 1]\n",
    "    conv_layer = tf.nn.conv2d(x_tensor, filter_weights, conv_strides, padding)\n",
    "    conv_layer = tf.nn.bias_add(conv_layer, filter_bias)\n",
    "    conv_layer = tf.nn.relu(conv_layer)\n",
    "        \n",
    "    pool_ksize_4d = [1, pool_ksize[0], pool_ksize[1], 1]\n",
    "    pool_strides_4d = [1, pool_strides[0], pool_strides[1], 1]\n",
    "    \n",
    "    max_pool_layer = tf.nn.max_pool(conv_layer, pool_ksize_4d, pool_strides_4d, padding)\n",
    "        \n",
    "    return max_pool_layer\n",
    "\n",
    "\"\"\"\n",
    "DON'T MODIFY ANYTHING IN THIS CELL THAT IS BELOW THIS LINE\n",
    "\"\"\"\n",
    "tests.test_con_pool(conv2d_maxpool)"
   ]
  },
  {
   "cell_type": "markdown",
   "metadata": {
    "deletable": true,
    "editable": true
   },
   "source": [
    "### Flatten Layer\n",
    "Implement the `flatten` function to change the dimension of `x_tensor` from a 4-D tensor to a 2-D tensor.  The output should be the shape (*Batch Size*, *Flattened Image Size*). Shortcut option: you can use classes from the [TensorFlow Layers](https://www.tensorflow.org/api_docs/python/tf/layers) or [TensorFlow Layers (contrib)](https://www.tensorflow.org/api_guides/python/contrib.layers) packages for this layer. For more of a challenge, only use other TensorFlow packages."
   ]
  },
  {
   "cell_type": "code",
   "execution_count": 51,
   "metadata": {
    "collapsed": false,
    "deletable": true,
    "editable": true
   },
   "outputs": [
    {
     "name": "stdout",
     "output_type": "stream",
     "text": [
      "Tests Passed\n"
     ]
    }
   ],
   "source": [
    "def flatten(x_tensor):\n",
    "    \"\"\"\n",
    "    Flatten x_tensor to (Batch Size, Flattened Image Size)\n",
    "    : x_tensor: A tensor of size (Batch Size, ...), where ... are the image dimensions.\n",
    "    : return: A tensor of size (Batch Size, Flattened Image Size).\n",
    "    \"\"\"\n",
    "    [batch_size, height, width, depth] = x_tensor.get_shape().as_list()\n",
    "    num_features = height * width * depth\n",
    "    flat_tensor = tf.reshape(x_tensor, [-1, num_features])\n",
    "    \n",
    "    return flat_tensor\n",
    "\n",
    "\n",
    "\"\"\"\n",
    "DON'T MODIFY ANYTHING IN THIS CELL THAT IS BELOW THIS LINE\n",
    "\"\"\"\n",
    "tests.test_flatten(flatten)"
   ]
  },
  {
   "cell_type": "markdown",
   "metadata": {
    "deletable": true,
    "editable": true
   },
   "source": [
    "### Fully-Connected Layer\n",
    "Implement the `fully_conn` function to apply a fully connected layer to `x_tensor` with the shape (*Batch Size*, *num_outputs*). Shortcut option: you can use classes from the [TensorFlow Layers](https://www.tensorflow.org/api_docs/python/tf/layers) or [TensorFlow Layers (contrib)](https://www.tensorflow.org/api_guides/python/contrib.layers) packages for this layer. For more of a challenge, only use other TensorFlow packages."
   ]
  },
  {
   "cell_type": "code",
   "execution_count": 52,
   "metadata": {
    "collapsed": false,
    "deletable": true,
    "editable": true
   },
   "outputs": [
    {
     "name": "stdout",
     "output_type": "stream",
     "text": [
      "Tests Passed\n"
     ]
    }
   ],
   "source": [
    "def fully_conn(x_tensor, num_outputs):\n",
    "    \"\"\"\n",
    "    Apply a fully connected layer to x_tensor using weight and bias\n",
    "    : x_tensor: A 2-D tensor where the first dimension is batch size.\n",
    "    : num_outputs: The number of output that the new tensor should be.\n",
    "    : return: A 2-D tensor where the second dimension is num_outputs.\n",
    "    \"\"\"\n",
    "    x_tensor_shape = x_tensor.get_shape().as_list()\n",
    "    weights = tf.Variable(tf.truncated_normal(\n",
    "        [x_tensor_shape[-1], num_outputs],\n",
    "        mean=0.0, stddev=0.1\n",
    "    ))\n",
    "    biases = tf.Variable(tf.zeros([num_outputs]))\n",
    "    \n",
    "    return tf.nn.relu(tf.add(tf.matmul(x_tensor, weights), biases))\n",
    "\n",
    "\n",
    "\"\"\"\n",
    "DON'T MODIFY ANYTHING IN THIS CELL THAT IS BELOW THIS LINE\n",
    "\"\"\"\n",
    "tests.test_fully_conn(fully_conn)"
   ]
  },
  {
   "cell_type": "markdown",
   "metadata": {
    "deletable": true,
    "editable": true
   },
   "source": [
    "### Output Layer\n",
    "Implement the `output` function to apply a fully connected layer to `x_tensor` with the shape (*Batch Size*, *num_outputs*). Shortcut option: you can use classes from the [TensorFlow Layers](https://www.tensorflow.org/api_docs/python/tf/layers) or [TensorFlow Layers (contrib)](https://www.tensorflow.org/api_guides/python/contrib.layers) packages for this layer. For more of a challenge, only use other TensorFlow packages.\n",
    "\n",
    "**Note:** Activation, softmax, or cross entropy should **not** be applied to this."
   ]
  },
  {
   "cell_type": "code",
   "execution_count": 53,
   "metadata": {
    "collapsed": false,
    "deletable": true,
    "editable": true
   },
   "outputs": [
    {
     "name": "stdout",
     "output_type": "stream",
     "text": [
      "Tests Passed\n"
     ]
    }
   ],
   "source": [
    "def output(x_tensor, num_outputs):\n",
    "    \"\"\"\n",
    "    Apply a output layer to x_tensor using weight and bias\n",
    "    : x_tensor: A 2-D tensor where the first dimension is batch size.\n",
    "    : num_outputs: The number of output that the new tensor should be.\n",
    "    : return: A 2-D tensor where the second dimension is num_outputs.\n",
    "    \"\"\"\n",
    "    x_tensor_shape = x_tensor.get_shape().as_list()\n",
    "    weights = tf.Variable(tf.truncated_normal(\n",
    "        [x_tensor_shape[-1], num_outputs], \n",
    "        mean=0.0, stddev=0.1\n",
    "    ))\n",
    "    biases = tf.Variable(tf.zeros(num_outputs))\n",
    "    \n",
    "    return tf.add(tf.matmul(x_tensor, weights), biases)\n",
    "\n",
    "\n",
    "\"\"\"\n",
    "DON'T MODIFY ANYTHING IN THIS CELL THAT IS BELOW THIS LINE\n",
    "\"\"\"\n",
    "tests.test_output(output)"
   ]
  },
  {
   "cell_type": "markdown",
   "metadata": {
    "deletable": true,
    "editable": true
   },
   "source": [
    "### Create Convolutional Model\n",
    "Implement the function `conv_net` to create a convolutional neural network model. The function takes in a batch of images, `x`, and outputs logits.  Use the layers you created above to create this model:\n",
    "\n",
    "* Apply 1, 2, or 3 Convolution and Max Pool layers\n",
    "* Apply a Flatten Layer\n",
    "* Apply 1, 2, or 3 Fully Connected Layers\n",
    "* Apply an Output Layer\n",
    "* Return the output\n",
    "* Apply [TensorFlow's Dropout](https://www.tensorflow.org/api_docs/python/tf/nn/dropout) to one or more layers in the model using `keep_prob`. "
   ]
  },
  {
   "cell_type": "code",
   "execution_count": 54,
   "metadata": {
    "collapsed": false,
    "deletable": true,
    "editable": true
   },
   "outputs": [
    {
     "name": "stdout",
     "output_type": "stream",
     "text": [
      "Neural Network Built!\n"
     ]
    }
   ],
   "source": [
    "def conv_net(x, keep_prob):\n",
    "    \"\"\"\n",
    "    Create a convolutional neural network model\n",
    "    : x: Placeholder tensor that holds image data.\n",
    "    : keep_prob: Placeholder tensor that hold dropout keep probability.\n",
    "    : return: Tensor that represents logits\n",
    "    \"\"\"\n",
    "    # TODO: Apply 1, 2, or 3 Convolution and Max Pool layers\n",
    "    #    Play around with different number of outputs, kernel size and stride\n",
    "    # Function Definition from Above:\n",
    "    #    conv2d_maxpool(x_tensor, conv_num_outputs, conv_ksize, conv_strides, pool_ksize, pool_strides)\n",
    "    num_conv_layers = 3\n",
    "    conv_num_outputs = [16, 32, 64]\n",
    "    conv_ksizes = [[4, 4], [4, 4], [4, 4]]\n",
    "    conv_strides = [[1, 1], [1, 1], [1, 1]]\n",
    "    pool_ksizes = [[2, 2], [2, 2], [2, 2]]\n",
    "    pool_strides = [[2, 2], [2, 2], [2, 2]]\n",
    "    \n",
    "    conv_layer = x\n",
    "    for i in range(num_conv_layers):\n",
    "        conv_layer = conv2d_maxpool(\n",
    "            conv_layer,\n",
    "            conv_num_outputs[i],\n",
    "            conv_ksizes[i],\n",
    "            conv_strides[i],\n",
    "            pool_ksizes[i],\n",
    "            pool_strides[i]\n",
    "        )\n",
    "\n",
    "    \n",
    "    # TODO: Apply a Flatten Layer\n",
    "    # Function Definition from Above:\n",
    "    #   flatten(x_tensor)\n",
    "    flatten_layer = flatten(conv_layer)\n",
    "\n",
    "    # TODO: Apply 1, 2, or 3 Fully Connected Layers\n",
    "    #    Play around with different number of outputs\n",
    "    # Function Definition from Above:\n",
    "    #   fully_conn(x_tensor, num_outputs)\n",
    "    num_fully_conn_layers = 1\n",
    "    fully_num_outputs = 10\n",
    "    \n",
    "    fully_conn_layer = flatten_layer\n",
    "    for i in range(num_fully_conn_layers):\n",
    "        fully_conn_layer = fully_conn(fully_conn_layer, fully_num_outputs)\n",
    "        fully_conn_layer = tf.nn.dropout(fully_conn_layer, keep_prob)\n",
    "    \n",
    "    # TODO: Apply an Output Layer\n",
    "    #    Set this to the number of classes\n",
    "    # Function Definition from Above:\n",
    "    #   output(x_tensor, num_outputs)\n",
    "    num_classes = 10\n",
    "    output_layer = output(fully_conn_layer, num_classes)\n",
    "    \n",
    "    # TODO: return output\n",
    "    return output_layer\n",
    "\n",
    "\n",
    "\"\"\"\n",
    "DON'T MODIFY ANYTHING IN THIS CELL THAT IS BELOW THIS LINE\n",
    "\"\"\"\n",
    "\n",
    "##############################\n",
    "## Build the Neural Network ##\n",
    "##############################\n",
    "\n",
    "# Remove previous weights, bias, inputs, etc..\n",
    "tf.reset_default_graph()\n",
    "\n",
    "# Inputs\n",
    "x = neural_net_image_input((32, 32, 3))\n",
    "y = neural_net_label_input(10)\n",
    "keep_prob = neural_net_keep_prob_input()\n",
    "\n",
    "# Model\n",
    "logits = conv_net(x, keep_prob)\n",
    "\n",
    "# Name logits Tensor, so that is can be loaded from disk after training\n",
    "logits = tf.identity(logits, name='logits')\n",
    "\n",
    "# Loss and Optimizer\n",
    "cost = tf.reduce_mean(tf.nn.softmax_cross_entropy_with_logits(logits=logits, labels=y))\n",
    "optimizer = tf.train.AdamOptimizer().minimize(cost)\n",
    "\n",
    "# Accuracy\n",
    "correct_pred = tf.equal(tf.argmax(logits, 1), tf.argmax(y, 1))\n",
    "accuracy = tf.reduce_mean(tf.cast(correct_pred, tf.float32), name='accuracy')\n",
    "\n",
    "tests.test_conv_net(conv_net)"
   ]
  },
  {
   "cell_type": "markdown",
   "metadata": {
    "deletable": true,
    "editable": true
   },
   "source": [
    "## Train the Neural Network\n",
    "### Single Optimization\n",
    "Implement the function `train_neural_network` to do a single optimization.  The optimization should use `optimizer` to optimize in `session` with a `feed_dict` of the following:\n",
    "* `x` for image input\n",
    "* `y` for labels\n",
    "* `keep_prob` for keep probability for dropout\n",
    "\n",
    "This function will be called for each batch, so `tf.global_variables_initializer()` has already been called.\n",
    "\n",
    "Note: Nothing needs to be returned. This function is only optimizing the neural network."
   ]
  },
  {
   "cell_type": "code",
   "execution_count": 55,
   "metadata": {
    "collapsed": false,
    "deletable": true,
    "editable": true
   },
   "outputs": [
    {
     "name": "stdout",
     "output_type": "stream",
     "text": [
      "Tests Passed\n"
     ]
    }
   ],
   "source": [
    "def train_neural_network(session, optimizer, keep_probability, feature_batch, label_batch):\n",
    "    \"\"\"\n",
    "    Optimize the session on a batch of images and labels\n",
    "    : session: Current TensorFlow session\n",
    "    : optimizer: TensorFlow optimizer function\n",
    "    : keep_probability: keep probability\n",
    "    : feature_batch: Batch of Numpy image data\n",
    "    : label_batch: Batch of Numpy label data\n",
    "    \"\"\"\n",
    "    session.run(optimizer, feed_dict={\n",
    "        x: feature_batch,\n",
    "        y: label_batch,\n",
    "        keep_prob: keep_probability\n",
    "    })\n",
    "\n",
    "\"\"\"\n",
    "DON'T MODIFY ANYTHING IN THIS CELL THAT IS BELOW THIS LINE\n",
    "\"\"\"\n",
    "tests.test_train_nn(train_neural_network)"
   ]
  },
  {
   "cell_type": "markdown",
   "metadata": {
    "deletable": true,
    "editable": true
   },
   "source": [
    "### Show Stats\n",
    "Implement the function `print_stats` to print loss and validation accuracy.  Use the global variables `valid_features` and `valid_labels` to calculate validation accuracy.  Use a keep probability of `1.0` to calculate the loss and validation accuracy."
   ]
  },
  {
   "cell_type": "code",
   "execution_count": 56,
   "metadata": {
    "collapsed": false,
    "deletable": true,
    "editable": true
   },
   "outputs": [],
   "source": [
    "def print_stats(session, feature_batch, label_batch, cost, accuracy):\n",
    "    \"\"\"\n",
    "    Print information about loss and validation accuracy\n",
    "    : session: Current TensorFlow session\n",
    "    : feature_batch: Batch of Numpy image data\n",
    "    : label_batch: Batch of Numpy label data\n",
    "    : cost: TensorFlow cost function\n",
    "    : accuracy: TensorFlow accuracy function\n",
    "    \"\"\"\n",
    "    loss = session.run(cost, feed_dict={\n",
    "        x: feature_batch,\n",
    "        y: label_batch,\n",
    "        keep_prob: 1.\n",
    "    })\n",
    "    \n",
    "    valid_accuracy = session.run(accuracy, feed_dict={\n",
    "        x: valid_features,\n",
    "        y: valid_labels,\n",
    "        keep_prob: 1.\n",
    "    })\n",
    "    \n",
    "    print('Loss: {:>10.4f} Validation Accuracy: {:.6f}'.format(\n",
    "        loss, valid_accuracy\n",
    "    ))"
   ]
  },
  {
   "cell_type": "markdown",
   "metadata": {
    "deletable": true,
    "editable": true
   },
   "source": [
    "### Hyperparameters\n",
    "Tune the following parameters:\n",
    "* Set `epochs` to the number of iterations until the network stops learning or start overfitting\n",
    "* Set `batch_size` to the highest number that your machine has memory for.  Most people set them to common sizes of memory:\n",
    " * 64\n",
    " * 128\n",
    " * 256\n",
    " * ...\n",
    "* Set `keep_probability` to the probability of keeping a node using dropout"
   ]
  },
  {
   "cell_type": "code",
   "execution_count": 69,
   "metadata": {
    "collapsed": true,
    "deletable": true,
    "editable": true
   },
   "outputs": [],
   "source": [
    "# TODO: Tune Parameters\n",
    "epochs = 50\n",
    "batch_size = 128\n",
    "keep_probability = 0.75"
   ]
  },
  {
   "cell_type": "markdown",
   "metadata": {
    "deletable": true,
    "editable": true
   },
   "source": [
    "### Train on a Single CIFAR-10 Batch\n",
    "Instead of training the neural network on all the CIFAR-10 batches of data, let's use a single batch. This should save time while you iterate on the model to get a better accuracy.  Once the final validation accuracy is 50% or greater, run the model on all the data in the next section."
   ]
  },
  {
   "cell_type": "code",
   "execution_count": 70,
   "metadata": {
    "collapsed": false,
    "deletable": true,
    "editable": true
   },
   "outputs": [
    {
     "name": "stdout",
     "output_type": "stream",
     "text": [
      "Checking the Training on a Single Batch...\n",
      "Epoch  1, CIFAR-10 Batch 1:  Loss:     2.2058 Validation Accuracy: 0.241200\n",
      "Epoch  2, CIFAR-10 Batch 1:  Loss:     2.1869 Validation Accuracy: 0.269600\n",
      "Epoch  3, CIFAR-10 Batch 1:  Loss:     2.0862 Validation Accuracy: 0.310200\n",
      "Epoch  4, CIFAR-10 Batch 1:  Loss:     1.9528 Validation Accuracy: 0.355800\n",
      "Epoch  5, CIFAR-10 Batch 1:  Loss:     1.8763 Validation Accuracy: 0.383600\n",
      "Epoch  6, CIFAR-10 Batch 1:  Loss:     1.8280 Validation Accuracy: 0.397600\n",
      "Epoch  7, CIFAR-10 Batch 1:  Loss:     1.7579 Validation Accuracy: 0.407800\n",
      "Epoch  8, CIFAR-10 Batch 1:  Loss:     1.6662 Validation Accuracy: 0.422400\n",
      "Epoch  9, CIFAR-10 Batch 1:  Loss:     1.6307 Validation Accuracy: 0.420400\n",
      "Epoch 10, CIFAR-10 Batch 1:  Loss:     1.5066 Validation Accuracy: 0.440400\n",
      "Epoch 11, CIFAR-10 Batch 1:  Loss:     1.5045 Validation Accuracy: 0.426000\n",
      "Epoch 12, CIFAR-10 Batch 1:  Loss:     1.4648 Validation Accuracy: 0.440600\n",
      "Epoch 13, CIFAR-10 Batch 1:  Loss:     1.3980 Validation Accuracy: 0.459400\n",
      "Epoch 14, CIFAR-10 Batch 1:  Loss:     1.3227 Validation Accuracy: 0.450600\n",
      "Epoch 15, CIFAR-10 Batch 1:  Loss:     1.3097 Validation Accuracy: 0.459000\n",
      "Epoch 16, CIFAR-10 Batch 1:  Loss:     1.2478 Validation Accuracy: 0.491800\n",
      "Epoch 17, CIFAR-10 Batch 1:  Loss:     1.2382 Validation Accuracy: 0.469400\n",
      "Epoch 18, CIFAR-10 Batch 1:  Loss:     1.1362 Validation Accuracy: 0.503200\n",
      "Epoch 19, CIFAR-10 Batch 1:  Loss:     1.1449 Validation Accuracy: 0.481200\n",
      "Epoch 20, CIFAR-10 Batch 1:  Loss:     1.1237 Validation Accuracy: 0.485000\n",
      "Epoch 21, CIFAR-10 Batch 1:  Loss:     1.1226 Validation Accuracy: 0.486200\n",
      "Epoch 22, CIFAR-10 Batch 1:  Loss:     1.0335 Validation Accuracy: 0.507400\n",
      "Epoch 23, CIFAR-10 Batch 1:  Loss:     1.0297 Validation Accuracy: 0.512800\n",
      "Epoch 24, CIFAR-10 Batch 1:  Loss:     0.9715 Validation Accuracy: 0.517000\n",
      "Epoch 25, CIFAR-10 Batch 1:  Loss:     1.0471 Validation Accuracy: 0.520800\n",
      "Epoch 26, CIFAR-10 Batch 1:  Loss:     0.9942 Validation Accuracy: 0.516000\n",
      "Epoch 27, CIFAR-10 Batch 1:  Loss:     0.9156 Validation Accuracy: 0.517400\n",
      "Epoch 28, CIFAR-10 Batch 1:  Loss:     0.9457 Validation Accuracy: 0.512200\n",
      "Epoch 29, CIFAR-10 Batch 1:  Loss:     0.8826 Validation Accuracy: 0.526200\n",
      "Epoch 30, CIFAR-10 Batch 1:  Loss:     0.9194 Validation Accuracy: 0.497400\n",
      "Epoch 31, CIFAR-10 Batch 1:  Loss:     0.8480 Validation Accuracy: 0.533000\n",
      "Epoch 32, CIFAR-10 Batch 1:  Loss:     0.8208 Validation Accuracy: 0.535600\n",
      "Epoch 33, CIFAR-10 Batch 1:  Loss:     0.7967 Validation Accuracy: 0.529200\n",
      "Epoch 34, CIFAR-10 Batch 1:  Loss:     0.7921 Validation Accuracy: 0.529600\n",
      "Epoch 35, CIFAR-10 Batch 1:  Loss:     0.7691 Validation Accuracy: 0.517200\n",
      "Epoch 36, CIFAR-10 Batch 1:  Loss:     0.7159 Validation Accuracy: 0.525400\n",
      "Epoch 37, CIFAR-10 Batch 1:  Loss:     0.7462 Validation Accuracy: 0.494400\n",
      "Epoch 38, CIFAR-10 Batch 1:  Loss:     0.6961 Validation Accuracy: 0.511800\n",
      "Epoch 39, CIFAR-10 Batch 1:  Loss:     0.6220 Validation Accuracy: 0.521000\n",
      "Epoch 40, CIFAR-10 Batch 1:  Loss:     0.6540 Validation Accuracy: 0.522600\n",
      "Epoch 41, CIFAR-10 Batch 1:  Loss:     0.6453 Validation Accuracy: 0.527200\n",
      "Epoch 42, CIFAR-10 Batch 1:  Loss:     0.5890 Validation Accuracy: 0.520600\n",
      "Epoch 43, CIFAR-10 Batch 1:  Loss:     0.5841 Validation Accuracy: 0.509000\n",
      "Epoch 44, CIFAR-10 Batch 1:  Loss:     0.5738 Validation Accuracy: 0.523000\n",
      "Epoch 45, CIFAR-10 Batch 1:  Loss:     0.6194 Validation Accuracy: 0.511800\n",
      "Epoch 46, CIFAR-10 Batch 1:  Loss:     0.5293 Validation Accuracy: 0.531000\n",
      "Epoch 47, CIFAR-10 Batch 1:  Loss:     0.5457 Validation Accuracy: 0.530800\n",
      "Epoch 48, CIFAR-10 Batch 1:  Loss:     0.5522 Validation Accuracy: 0.532800\n",
      "Epoch 49, CIFAR-10 Batch 1:  Loss:     0.5138 Validation Accuracy: 0.531400\n",
      "Epoch 50, CIFAR-10 Batch 1:  Loss:     0.5459 Validation Accuracy: 0.517000\n"
     ]
    }
   ],
   "source": [
    "\"\"\"\n",
    "DON'T MODIFY ANYTHING IN THIS CELL\n",
    "\"\"\"\n",
    "print('Checking the Training on a Single Batch...')\n",
    "with tf.Session() as sess:\n",
    "    # Initializing the variables\n",
    "    sess.run(tf.global_variables_initializer())\n",
    "    \n",
    "    # Training cycle\n",
    "    for epoch in range(epochs):\n",
    "        batch_i = 1\n",
    "        for batch_features, batch_labels in helper.load_preprocess_training_batch(batch_i, batch_size):\n",
    "            train_neural_network(sess, optimizer, keep_probability, batch_features, batch_labels)\n",
    "        print('Epoch {:>2}, CIFAR-10 Batch {}:  '.format(epoch + 1, batch_i), end='')\n",
    "        print_stats(sess, batch_features, batch_labels, cost, accuracy)"
   ]
  },
  {
   "cell_type": "markdown",
   "metadata": {
    "deletable": true,
    "editable": true
   },
   "source": [
    "### Fully Train the Model\n",
    "Now that you got a good accuracy with a single CIFAR-10 batch, try it with all five batches."
   ]
  },
  {
   "cell_type": "code",
   "execution_count": 71,
   "metadata": {
    "collapsed": false,
    "deletable": true,
    "editable": true
   },
   "outputs": [
    {
     "name": "stdout",
     "output_type": "stream",
     "text": [
      "Training...\n",
      "Epoch  1, CIFAR-10 Batch 1:  Loss:     2.1886 Validation Accuracy: 0.222800\n",
      "Epoch  1, CIFAR-10 Batch 2:  Loss:     2.1265 Validation Accuracy: 0.259600\n",
      "Epoch  1, CIFAR-10 Batch 3:  Loss:     1.7499 Validation Accuracy: 0.317200\n",
      "Epoch  1, CIFAR-10 Batch 4:  Loss:     1.7462 Validation Accuracy: 0.347200\n",
      "Epoch  1, CIFAR-10 Batch 5:  Loss:     1.6985 Validation Accuracy: 0.339800\n",
      "Epoch  2, CIFAR-10 Batch 1:  Loss:     1.8355 Validation Accuracy: 0.375800\n",
      "Epoch  2, CIFAR-10 Batch 2:  Loss:     1.7493 Validation Accuracy: 0.387600\n",
      "Epoch  2, CIFAR-10 Batch 3:  Loss:     1.5176 Validation Accuracy: 0.406200\n",
      "Epoch  2, CIFAR-10 Batch 4:  Loss:     1.6637 Validation Accuracy: 0.420200\n",
      "Epoch  2, CIFAR-10 Batch 5:  Loss:     1.5553 Validation Accuracy: 0.423400\n",
      "Epoch  3, CIFAR-10 Batch 1:  Loss:     1.6801 Validation Accuracy: 0.456400\n",
      "Epoch  3, CIFAR-10 Batch 2:  Loss:     1.6506 Validation Accuracy: 0.441600\n",
      "Epoch  3, CIFAR-10 Batch 3:  Loss:     1.4414 Validation Accuracy: 0.443600\n",
      "Epoch  3, CIFAR-10 Batch 4:  Loss:     1.5146 Validation Accuracy: 0.435400\n",
      "Epoch  3, CIFAR-10 Batch 5:  Loss:     1.5302 Validation Accuracy: 0.448000\n",
      "Epoch  4, CIFAR-10 Batch 1:  Loss:     1.5556 Validation Accuracy: 0.478000\n",
      "Epoch  4, CIFAR-10 Batch 2:  Loss:     1.4534 Validation Accuracy: 0.481200\n",
      "Epoch  4, CIFAR-10 Batch 3:  Loss:     1.4040 Validation Accuracy: 0.469200\n",
      "Epoch  4, CIFAR-10 Batch 4:  Loss:     1.4656 Validation Accuracy: 0.466400\n",
      "Epoch  4, CIFAR-10 Batch 5:  Loss:     1.3695 Validation Accuracy: 0.497400\n",
      "Epoch  5, CIFAR-10 Batch 1:  Loss:     1.4772 Validation Accuracy: 0.508600\n",
      "Epoch  5, CIFAR-10 Batch 2:  Loss:     1.3398 Validation Accuracy: 0.496200\n",
      "Epoch  5, CIFAR-10 Batch 3:  Loss:     1.3189 Validation Accuracy: 0.501800\n",
      "Epoch  5, CIFAR-10 Batch 4:  Loss:     1.4055 Validation Accuracy: 0.504600\n",
      "Epoch  5, CIFAR-10 Batch 5:  Loss:     1.3019 Validation Accuracy: 0.514600\n",
      "Epoch  6, CIFAR-10 Batch 1:  Loss:     1.4483 Validation Accuracy: 0.515800\n",
      "Epoch  6, CIFAR-10 Batch 2:  Loss:     1.2529 Validation Accuracy: 0.522600\n",
      "Epoch  6, CIFAR-10 Batch 3:  Loss:     1.1770 Validation Accuracy: 0.501200\n",
      "Epoch  6, CIFAR-10 Batch 4:  Loss:     1.3126 Validation Accuracy: 0.529800\n",
      "Epoch  6, CIFAR-10 Batch 5:  Loss:     1.2248 Validation Accuracy: 0.538600\n",
      "Epoch  7, CIFAR-10 Batch 1:  Loss:     1.1858 Validation Accuracy: 0.549600\n",
      "Epoch  7, CIFAR-10 Batch 2:  Loss:     1.1784 Validation Accuracy: 0.546600\n",
      "Epoch  7, CIFAR-10 Batch 3:  Loss:     1.0888 Validation Accuracy: 0.545800\n",
      "Epoch  7, CIFAR-10 Batch 4:  Loss:     1.2485 Validation Accuracy: 0.540000\n",
      "Epoch  7, CIFAR-10 Batch 5:  Loss:     1.1817 Validation Accuracy: 0.553200\n",
      "Epoch  8, CIFAR-10 Batch 1:  Loss:     1.1736 Validation Accuracy: 0.563000\n",
      "Epoch  8, CIFAR-10 Batch 2:  Loss:     1.1300 Validation Accuracy: 0.555800\n",
      "Epoch  8, CIFAR-10 Batch 3:  Loss:     0.9833 Validation Accuracy: 0.553600\n",
      "Epoch  8, CIFAR-10 Batch 4:  Loss:     1.1946 Validation Accuracy: 0.571400\n",
      "Epoch  8, CIFAR-10 Batch 5:  Loss:     1.1264 Validation Accuracy: 0.555200\n",
      "Epoch  9, CIFAR-10 Batch 1:  Loss:     1.0394 Validation Accuracy: 0.565400\n",
      "Epoch  9, CIFAR-10 Batch 2:  Loss:     1.1459 Validation Accuracy: 0.553600\n",
      "Epoch  9, CIFAR-10 Batch 3:  Loss:     0.9221 Validation Accuracy: 0.563200\n",
      "Epoch  9, CIFAR-10 Batch 4:  Loss:     1.0422 Validation Accuracy: 0.579600\n",
      "Epoch  9, CIFAR-10 Batch 5:  Loss:     1.0273 Validation Accuracy: 0.577400\n",
      "Epoch 10, CIFAR-10 Batch 1:  Loss:     0.9553 Validation Accuracy: 0.582200\n",
      "Epoch 10, CIFAR-10 Batch 2:  Loss:     1.0592 Validation Accuracy: 0.577000\n",
      "Epoch 10, CIFAR-10 Batch 3:  Loss:     0.9002 Validation Accuracy: 0.577600\n",
      "Epoch 10, CIFAR-10 Batch 4:  Loss:     0.9542 Validation Accuracy: 0.577400\n",
      "Epoch 10, CIFAR-10 Batch 5:  Loss:     1.0382 Validation Accuracy: 0.587600\n",
      "Epoch 11, CIFAR-10 Batch 1:  Loss:     0.9355 Validation Accuracy: 0.592400\n",
      "Epoch 11, CIFAR-10 Batch 2:  Loss:     1.0109 Validation Accuracy: 0.576600\n",
      "Epoch 11, CIFAR-10 Batch 3:  Loss:     0.8733 Validation Accuracy: 0.579600\n",
      "Epoch 11, CIFAR-10 Batch 4:  Loss:     0.9442 Validation Accuracy: 0.587400\n",
      "Epoch 11, CIFAR-10 Batch 5:  Loss:     0.9143 Validation Accuracy: 0.592200\n",
      "Epoch 12, CIFAR-10 Batch 1:  Loss:     0.8908 Validation Accuracy: 0.593800\n",
      "Epoch 12, CIFAR-10 Batch 2:  Loss:     0.9748 Validation Accuracy: 0.581000\n",
      "Epoch 12, CIFAR-10 Batch 3:  Loss:     0.7992 Validation Accuracy: 0.575800\n",
      "Epoch 12, CIFAR-10 Batch 4:  Loss:     0.8690 Validation Accuracy: 0.593800\n",
      "Epoch 12, CIFAR-10 Batch 5:  Loss:     0.9353 Validation Accuracy: 0.591000\n",
      "Epoch 13, CIFAR-10 Batch 1:  Loss:     0.8315 Validation Accuracy: 0.602200\n",
      "Epoch 13, CIFAR-10 Batch 2:  Loss:     0.9257 Validation Accuracy: 0.593800\n",
      "Epoch 13, CIFAR-10 Batch 3:  Loss:     0.8140 Validation Accuracy: 0.591000\n",
      "Epoch 13, CIFAR-10 Batch 4:  Loss:     0.8718 Validation Accuracy: 0.589400\n",
      "Epoch 13, CIFAR-10 Batch 5:  Loss:     0.8385 Validation Accuracy: 0.592200\n",
      "Epoch 14, CIFAR-10 Batch 1:  Loss:     0.8473 Validation Accuracy: 0.607800\n",
      "Epoch 14, CIFAR-10 Batch 2:  Loss:     0.8965 Validation Accuracy: 0.601200\n",
      "Epoch 14, CIFAR-10 Batch 3:  Loss:     0.7711 Validation Accuracy: 0.604800\n",
      "Epoch 14, CIFAR-10 Batch 4:  Loss:     0.8328 Validation Accuracy: 0.595600\n",
      "Epoch 14, CIFAR-10 Batch 5:  Loss:     0.8001 Validation Accuracy: 0.606800\n",
      "Epoch 15, CIFAR-10 Batch 1:  Loss:     0.7750 Validation Accuracy: 0.602600\n",
      "Epoch 15, CIFAR-10 Batch 2:  Loss:     0.8896 Validation Accuracy: 0.597200\n",
      "Epoch 15, CIFAR-10 Batch 3:  Loss:     0.7903 Validation Accuracy: 0.593200\n",
      "Epoch 15, CIFAR-10 Batch 4:  Loss:     0.7667 Validation Accuracy: 0.615600\n",
      "Epoch 15, CIFAR-10 Batch 5:  Loss:     0.7805 Validation Accuracy: 0.614600\n",
      "Epoch 16, CIFAR-10 Batch 1:  Loss:     0.7777 Validation Accuracy: 0.606800\n",
      "Epoch 16, CIFAR-10 Batch 2:  Loss:     0.8807 Validation Accuracy: 0.597800\n",
      "Epoch 16, CIFAR-10 Batch 3:  Loss:     0.7160 Validation Accuracy: 0.601000\n",
      "Epoch 16, CIFAR-10 Batch 4:  Loss:     0.7454 Validation Accuracy: 0.613400\n",
      "Epoch 16, CIFAR-10 Batch 5:  Loss:     0.7479 Validation Accuracy: 0.609600\n",
      "Epoch 17, CIFAR-10 Batch 1:  Loss:     0.7730 Validation Accuracy: 0.610600\n",
      "Epoch 17, CIFAR-10 Batch 2:  Loss:     0.8914 Validation Accuracy: 0.572600\n",
      "Epoch 17, CIFAR-10 Batch 3:  Loss:     0.7217 Validation Accuracy: 0.602600\n",
      "Epoch 17, CIFAR-10 Batch 4:  Loss:     0.7280 Validation Accuracy: 0.617600\n",
      "Epoch 17, CIFAR-10 Batch 5:  Loss:     0.7243 Validation Accuracy: 0.621600\n",
      "Epoch 18, CIFAR-10 Batch 1:  Loss:     0.7632 Validation Accuracy: 0.601600\n",
      "Epoch 18, CIFAR-10 Batch 2:  Loss:     0.7694 Validation Accuracy: 0.600200\n",
      "Epoch 18, CIFAR-10 Batch 3:  Loss:     0.6526 Validation Accuracy: 0.616600\n",
      "Epoch 18, CIFAR-10 Batch 4:  Loss:     0.7291 Validation Accuracy: 0.621400\n",
      "Epoch 18, CIFAR-10 Batch 5:  Loss:     0.7065 Validation Accuracy: 0.614600\n",
      "Epoch 19, CIFAR-10 Batch 1:  Loss:     0.7384 Validation Accuracy: 0.606000\n",
      "Epoch 19, CIFAR-10 Batch 2:  Loss:     0.7837 Validation Accuracy: 0.608400\n",
      "Epoch 19, CIFAR-10 Batch 3:  Loss:     0.6763 Validation Accuracy: 0.614400\n",
      "Epoch 19, CIFAR-10 Batch 4:  Loss:     0.7117 Validation Accuracy: 0.622400\n",
      "Epoch 19, CIFAR-10 Batch 5:  Loss:     0.6602 Validation Accuracy: 0.619400\n",
      "Epoch 20, CIFAR-10 Batch 1:  Loss:     0.7077 Validation Accuracy: 0.607800\n",
      "Epoch 20, CIFAR-10 Batch 2:  Loss:     0.7428 Validation Accuracy: 0.606400\n",
      "Epoch 20, CIFAR-10 Batch 3:  Loss:     0.6036 Validation Accuracy: 0.626400\n",
      "Epoch 20, CIFAR-10 Batch 4:  Loss:     0.7151 Validation Accuracy: 0.613600\n",
      "Epoch 20, CIFAR-10 Batch 5:  Loss:     0.6495 Validation Accuracy: 0.626400\n",
      "Epoch 21, CIFAR-10 Batch 1:  Loss:     0.7099 Validation Accuracy: 0.608200\n",
      "Epoch 21, CIFAR-10 Batch 2:  Loss:     0.7212 Validation Accuracy: 0.601600\n",
      "Epoch 21, CIFAR-10 Batch 3:  Loss:     0.5980 Validation Accuracy: 0.623600\n",
      "Epoch 21, CIFAR-10 Batch 4:  Loss:     0.6867 Validation Accuracy: 0.621000\n",
      "Epoch 21, CIFAR-10 Batch 5:  Loss:     0.6036 Validation Accuracy: 0.635000\n",
      "Epoch 22, CIFAR-10 Batch 1:  Loss:     0.6365 Validation Accuracy: 0.615400\n",
      "Epoch 22, CIFAR-10 Batch 2:  Loss:     0.6588 Validation Accuracy: 0.618000\n",
      "Epoch 22, CIFAR-10 Batch 3:  Loss:     0.5848 Validation Accuracy: 0.638200\n",
      "Epoch 22, CIFAR-10 Batch 4:  Loss:     0.7270 Validation Accuracy: 0.616400\n",
      "Epoch 22, CIFAR-10 Batch 5:  Loss:     0.6122 Validation Accuracy: 0.633000\n",
      "Epoch 23, CIFAR-10 Batch 1:  Loss:     0.6550 Validation Accuracy: 0.618600\n",
      "Epoch 23, CIFAR-10 Batch 2:  Loss:     0.6219 Validation Accuracy: 0.624600\n",
      "Epoch 23, CIFAR-10 Batch 3:  Loss:     0.5909 Validation Accuracy: 0.629200\n",
      "Epoch 23, CIFAR-10 Batch 4:  Loss:     0.7067 Validation Accuracy: 0.611400\n",
      "Epoch 23, CIFAR-10 Batch 5:  Loss:     0.5871 Validation Accuracy: 0.639200\n",
      "Epoch 24, CIFAR-10 Batch 1:  Loss:     0.6388 Validation Accuracy: 0.622200\n",
      "Epoch 24, CIFAR-10 Batch 2:  Loss:     0.6241 Validation Accuracy: 0.609400\n",
      "Epoch 24, CIFAR-10 Batch 3:  Loss:     0.5752 Validation Accuracy: 0.631200\n",
      "Epoch 24, CIFAR-10 Batch 4:  Loss:     0.6631 Validation Accuracy: 0.626800\n",
      "Epoch 24, CIFAR-10 Batch 5:  Loss:     0.5316 Validation Accuracy: 0.639800\n",
      "Epoch 25, CIFAR-10 Batch 1:  Loss:     0.6057 Validation Accuracy: 0.612400\n",
      "Epoch 25, CIFAR-10 Batch 2:  Loss:     0.6412 Validation Accuracy: 0.617200\n",
      "Epoch 25, CIFAR-10 Batch 3:  Loss:     0.5599 Validation Accuracy: 0.645200\n",
      "Epoch 25, CIFAR-10 Batch 4:  Loss:     0.6165 Validation Accuracy: 0.612800\n",
      "Epoch 25, CIFAR-10 Batch 5:  Loss:     0.5282 Validation Accuracy: 0.640400\n",
      "Epoch 26, CIFAR-10 Batch 1:  Loss:     0.5730 Validation Accuracy: 0.632600\n",
      "Epoch 26, CIFAR-10 Batch 2:  Loss:     0.6360 Validation Accuracy: 0.614400\n",
      "Epoch 26, CIFAR-10 Batch 3:  Loss:     0.5561 Validation Accuracy: 0.630200\n",
      "Epoch 26, CIFAR-10 Batch 4:  Loss:     0.6301 Validation Accuracy: 0.621200\n",
      "Epoch 26, CIFAR-10 Batch 5:  Loss:     0.5294 Validation Accuracy: 0.641600\n",
      "Epoch 27, CIFAR-10 Batch 1:  Loss:     0.5954 Validation Accuracy: 0.639600\n",
      "Epoch 27, CIFAR-10 Batch 2:  Loss:     0.5837 Validation Accuracy: 0.622400\n",
      "Epoch 27, CIFAR-10 Batch 3:  Loss:     0.5436 Validation Accuracy: 0.638200\n",
      "Epoch 27, CIFAR-10 Batch 4:  Loss:     0.5991 Validation Accuracy: 0.628200\n",
      "Epoch 27, CIFAR-10 Batch 5:  Loss:     0.5103 Validation Accuracy: 0.636600\n",
      "Epoch 28, CIFAR-10 Batch 1:  Loss:     0.6139 Validation Accuracy: 0.611400\n",
      "Epoch 28, CIFAR-10 Batch 2:  Loss:     0.6081 Validation Accuracy: 0.607600\n",
      "Epoch 28, CIFAR-10 Batch 3:  Loss:     0.4713 Validation Accuracy: 0.633200\n",
      "Epoch 28, CIFAR-10 Batch 4:  Loss:     0.5756 Validation Accuracy: 0.629400\n",
      "Epoch 28, CIFAR-10 Batch 5:  Loss:     0.5008 Validation Accuracy: 0.640200\n",
      "Epoch 29, CIFAR-10 Batch 1:  Loss:     0.5909 Validation Accuracy: 0.627400\n",
      "Epoch 29, CIFAR-10 Batch 2:  Loss:     0.5936 Validation Accuracy: 0.605800\n",
      "Epoch 29, CIFAR-10 Batch 3:  Loss:     0.4646 Validation Accuracy: 0.644600\n",
      "Epoch 29, CIFAR-10 Batch 4:  Loss:     0.5818 Validation Accuracy: 0.620000\n",
      "Epoch 29, CIFAR-10 Batch 5:  Loss:     0.4827 Validation Accuracy: 0.638600\n",
      "Epoch 30, CIFAR-10 Batch 1:  Loss:     0.5581 Validation Accuracy: 0.629000\n",
      "Epoch 30, CIFAR-10 Batch 2:  Loss:     0.5542 Validation Accuracy: 0.608800\n",
      "Epoch 30, CIFAR-10 Batch 3:  Loss:     0.4377 Validation Accuracy: 0.649000\n",
      "Epoch 30, CIFAR-10 Batch 4:  Loss:     0.5972 Validation Accuracy: 0.625000\n",
      "Epoch 30, CIFAR-10 Batch 5:  Loss:     0.4839 Validation Accuracy: 0.634000\n",
      "Epoch 31, CIFAR-10 Batch 1:  Loss:     0.5606 Validation Accuracy: 0.629800\n",
      "Epoch 31, CIFAR-10 Batch 2:  Loss:     0.5544 Validation Accuracy: 0.608400\n",
      "Epoch 31, CIFAR-10 Batch 3:  Loss:     0.4081 Validation Accuracy: 0.643600\n",
      "Epoch 31, CIFAR-10 Batch 4:  Loss:     0.5515 Validation Accuracy: 0.629800\n",
      "Epoch 31, CIFAR-10 Batch 5:  Loss:     0.4540 Validation Accuracy: 0.636400\n",
      "Epoch 32, CIFAR-10 Batch 1:  Loss:     0.5561 Validation Accuracy: 0.637000\n",
      "Epoch 32, CIFAR-10 Batch 2:  Loss:     0.5302 Validation Accuracy: 0.601800\n",
      "Epoch 32, CIFAR-10 Batch 3:  Loss:     0.4343 Validation Accuracy: 0.648600\n",
      "Epoch 32, CIFAR-10 Batch 4:  Loss:     0.5617 Validation Accuracy: 0.628800\n",
      "Epoch 32, CIFAR-10 Batch 5:  Loss:     0.4536 Validation Accuracy: 0.644400\n",
      "Epoch 33, CIFAR-10 Batch 1:  Loss:     0.5543 Validation Accuracy: 0.627800\n",
      "Epoch 33, CIFAR-10 Batch 2:  Loss:     0.5400 Validation Accuracy: 0.628400\n",
      "Epoch 33, CIFAR-10 Batch 3:  Loss:     0.3838 Validation Accuracy: 0.640800\n",
      "Epoch 33, CIFAR-10 Batch 4:  Loss:     0.5029 Validation Accuracy: 0.629600\n",
      "Epoch 33, CIFAR-10 Batch 5:  Loss:     0.4221 Validation Accuracy: 0.647800\n",
      "Epoch 34, CIFAR-10 Batch 1:  Loss:     0.4859 Validation Accuracy: 0.640600\n",
      "Epoch 34, CIFAR-10 Batch 2:  Loss:     0.4932 Validation Accuracy: 0.619200\n",
      "Epoch 34, CIFAR-10 Batch 3:  Loss:     0.4005 Validation Accuracy: 0.644200\n",
      "Epoch 34, CIFAR-10 Batch 4:  Loss:     0.4762 Validation Accuracy: 0.633800\n",
      "Epoch 34, CIFAR-10 Batch 5:  Loss:     0.3671 Validation Accuracy: 0.637400\n",
      "Epoch 35, CIFAR-10 Batch 1:  Loss:     0.4694 Validation Accuracy: 0.645200\n",
      "Epoch 35, CIFAR-10 Batch 2:  Loss:     0.4812 Validation Accuracy: 0.616400\n",
      "Epoch 35, CIFAR-10 Batch 3:  Loss:     0.3813 Validation Accuracy: 0.646800\n",
      "Epoch 35, CIFAR-10 Batch 4:  Loss:     0.4677 Validation Accuracy: 0.635200\n",
      "Epoch 35, CIFAR-10 Batch 5:  Loss:     0.3674 Validation Accuracy: 0.650200\n",
      "Epoch 36, CIFAR-10 Batch 1:  Loss:     0.4529 Validation Accuracy: 0.638200\n",
      "Epoch 36, CIFAR-10 Batch 2:  Loss:     0.4899 Validation Accuracy: 0.625400\n",
      "Epoch 36, CIFAR-10 Batch 3:  Loss:     0.4182 Validation Accuracy: 0.651400\n",
      "Epoch 36, CIFAR-10 Batch 4:  Loss:     0.4406 Validation Accuracy: 0.641400\n",
      "Epoch 36, CIFAR-10 Batch 5:  Loss:     0.4217 Validation Accuracy: 0.637600\n",
      "Epoch 37, CIFAR-10 Batch 1:  Loss:     0.4512 Validation Accuracy: 0.647000\n",
      "Epoch 37, CIFAR-10 Batch 2:  Loss:     0.4621 Validation Accuracy: 0.636200\n",
      "Epoch 37, CIFAR-10 Batch 3:  Loss:     0.4050 Validation Accuracy: 0.627400\n",
      "Epoch 37, CIFAR-10 Batch 4:  Loss:     0.4786 Validation Accuracy: 0.637600\n",
      "Epoch 37, CIFAR-10 Batch 5:  Loss:     0.4025 Validation Accuracy: 0.634600\n",
      "Epoch 38, CIFAR-10 Batch 1:  Loss:     0.4376 Validation Accuracy: 0.639000\n",
      "Epoch 38, CIFAR-10 Batch 2:  Loss:     0.4649 Validation Accuracy: 0.641600\n",
      "Epoch 38, CIFAR-10 Batch 3:  Loss:     0.3402 Validation Accuracy: 0.646600\n",
      "Epoch 38, CIFAR-10 Batch 4:  Loss:     0.4731 Validation Accuracy: 0.636600\n",
      "Epoch 38, CIFAR-10 Batch 5:  Loss:     0.3832 Validation Accuracy: 0.649400\n",
      "Epoch 39, CIFAR-10 Batch 1:  Loss:     0.4670 Validation Accuracy: 0.637400\n",
      "Epoch 39, CIFAR-10 Batch 2:  Loss:     0.4306 Validation Accuracy: 0.638000\n",
      "Epoch 39, CIFAR-10 Batch 3:  Loss:     0.3744 Validation Accuracy: 0.645000\n",
      "Epoch 39, CIFAR-10 Batch 4:  Loss:     0.4377 Validation Accuracy: 0.633200\n",
      "Epoch 39, CIFAR-10 Batch 5:  Loss:     0.3553 Validation Accuracy: 0.641600\n",
      "Epoch 40, CIFAR-10 Batch 1:  Loss:     0.4634 Validation Accuracy: 0.649800\n",
      "Epoch 40, CIFAR-10 Batch 2:  Loss:     0.4955 Validation Accuracy: 0.633400\n",
      "Epoch 40, CIFAR-10 Batch 3:  Loss:     0.3887 Validation Accuracy: 0.633800\n",
      "Epoch 40, CIFAR-10 Batch 4:  Loss:     0.4495 Validation Accuracy: 0.635400\n",
      "Epoch 40, CIFAR-10 Batch 5:  Loss:     0.3464 Validation Accuracy: 0.645800\n",
      "Epoch 41, CIFAR-10 Batch 1:  Loss:     0.4960 Validation Accuracy: 0.634400\n",
      "Epoch 41, CIFAR-10 Batch 2:  Loss:     0.4410 Validation Accuracy: 0.637000\n",
      "Epoch 41, CIFAR-10 Batch 3:  Loss:     0.3469 Validation Accuracy: 0.640600\n",
      "Epoch 41, CIFAR-10 Batch 4:  Loss:     0.4007 Validation Accuracy: 0.628400\n",
      "Epoch 41, CIFAR-10 Batch 5:  Loss:     0.3247 Validation Accuracy: 0.649800\n",
      "Epoch 42, CIFAR-10 Batch 1:  Loss:     0.4615 Validation Accuracy: 0.647800\n",
      "Epoch 42, CIFAR-10 Batch 2:  Loss:     0.4538 Validation Accuracy: 0.639000\n",
      "Epoch 42, CIFAR-10 Batch 3:  Loss:     0.3758 Validation Accuracy: 0.630800\n",
      "Epoch 42, CIFAR-10 Batch 4:  Loss:     0.4067 Validation Accuracy: 0.631600\n",
      "Epoch 42, CIFAR-10 Batch 5:  Loss:     0.3336 Validation Accuracy: 0.649800\n",
      "Epoch 43, CIFAR-10 Batch 1:  Loss:     0.4546 Validation Accuracy: 0.644200\n",
      "Epoch 43, CIFAR-10 Batch 2:  Loss:     0.4455 Validation Accuracy: 0.639400\n",
      "Epoch 43, CIFAR-10 Batch 3:  Loss:     0.3589 Validation Accuracy: 0.637600\n",
      "Epoch 43, CIFAR-10 Batch 4:  Loss:     0.3956 Validation Accuracy: 0.646000\n",
      "Epoch 43, CIFAR-10 Batch 5:  Loss:     0.2960 Validation Accuracy: 0.648800\n",
      "Epoch 44, CIFAR-10 Batch 1:  Loss:     0.4129 Validation Accuracy: 0.645600\n",
      "Epoch 44, CIFAR-10 Batch 2:  Loss:     0.4897 Validation Accuracy: 0.640200\n",
      "Epoch 44, CIFAR-10 Batch 3:  Loss:     0.3162 Validation Accuracy: 0.637800\n",
      "Epoch 44, CIFAR-10 Batch 4:  Loss:     0.3797 Validation Accuracy: 0.644800\n",
      "Epoch 44, CIFAR-10 Batch 5:  Loss:     0.2742 Validation Accuracy: 0.651200\n",
      "Epoch 45, CIFAR-10 Batch 1:  Loss:     0.4283 Validation Accuracy: 0.640400\n",
      "Epoch 45, CIFAR-10 Batch 2:  Loss:     0.4458 Validation Accuracy: 0.636800\n",
      "Epoch 45, CIFAR-10 Batch 3:  Loss:     0.3073 Validation Accuracy: 0.645000\n",
      "Epoch 45, CIFAR-10 Batch 4:  Loss:     0.4012 Validation Accuracy: 0.641000\n",
      "Epoch 45, CIFAR-10 Batch 5:  Loss:     0.2936 Validation Accuracy: 0.631600\n",
      "Epoch 46, CIFAR-10 Batch 1:  Loss:     0.4608 Validation Accuracy: 0.642800\n",
      "Epoch 46, CIFAR-10 Batch 2:  Loss:     0.4004 Validation Accuracy: 0.640800\n",
      "Epoch 46, CIFAR-10 Batch 3:  Loss:     0.3286 Validation Accuracy: 0.644000\n",
      "Epoch 46, CIFAR-10 Batch 4:  Loss:     0.3772 Validation Accuracy: 0.641400\n",
      "Epoch 46, CIFAR-10 Batch 5:  Loss:     0.2831 Validation Accuracy: 0.645000\n",
      "Epoch 47, CIFAR-10 Batch 1:  Loss:     0.4134 Validation Accuracy: 0.644200\n",
      "Epoch 47, CIFAR-10 Batch 2:  Loss:     0.4223 Validation Accuracy: 0.644200\n",
      "Epoch 47, CIFAR-10 Batch 3:  Loss:     0.2783 Validation Accuracy: 0.645200\n",
      "Epoch 47, CIFAR-10 Batch 4:  Loss:     0.3590 Validation Accuracy: 0.638400\n",
      "Epoch 47, CIFAR-10 Batch 5:  Loss:     0.2919 Validation Accuracy: 0.637800\n",
      "Epoch 48, CIFAR-10 Batch 1:  Loss:     0.4252 Validation Accuracy: 0.640000\n",
      "Epoch 48, CIFAR-10 Batch 2:  Loss:     0.4112 Validation Accuracy: 0.636600\n",
      "Epoch 48, CIFAR-10 Batch 3:  Loss:     0.2895 Validation Accuracy: 0.639000\n",
      "Epoch 48, CIFAR-10 Batch 4:  Loss:     0.3498 Validation Accuracy: 0.637200\n",
      "Epoch 48, CIFAR-10 Batch 5:  Loss:     0.2662 Validation Accuracy: 0.640200\n",
      "Epoch 49, CIFAR-10 Batch 1:  Loss:     0.4386 Validation Accuracy: 0.639000\n",
      "Epoch 49, CIFAR-10 Batch 2:  Loss:     0.4099 Validation Accuracy: 0.632200\n",
      "Epoch 49, CIFAR-10 Batch 3:  Loss:     0.3243 Validation Accuracy: 0.639000\n",
      "Epoch 49, CIFAR-10 Batch 4:  Loss:     0.3356 Validation Accuracy: 0.648000\n",
      "Epoch 49, CIFAR-10 Batch 5:  Loss:     0.2757 Validation Accuracy: 0.648600\n",
      "Epoch 50, CIFAR-10 Batch 1:  Loss:     0.3731 Validation Accuracy: 0.644200\n",
      "Epoch 50, CIFAR-10 Batch 2:  Loss:     0.4142 Validation Accuracy: 0.632000\n",
      "Epoch 50, CIFAR-10 Batch 3:  Loss:     0.2996 Validation Accuracy: 0.636400\n",
      "Epoch 50, CIFAR-10 Batch 4:  Loss:     0.3695 Validation Accuracy: 0.643200\n",
      "Epoch 50, CIFAR-10 Batch 5:  Loss:     0.3174 Validation Accuracy: 0.649000\n"
     ]
    }
   ],
   "source": [
    "\"\"\"\n",
    "DON'T MODIFY ANYTHING IN THIS CELL\n",
    "\"\"\"\n",
    "save_model_path = './image_classification'\n",
    "\n",
    "print('Training...')\n",
    "with tf.Session() as sess:\n",
    "    # Initializing the variables\n",
    "    sess.run(tf.global_variables_initializer())\n",
    "    \n",
    "    # Training cycle\n",
    "    for epoch in range(epochs):\n",
    "        # Loop over all batches\n",
    "        n_batches = 5\n",
    "        for batch_i in range(1, n_batches + 1):\n",
    "            for batch_features, batch_labels in helper.load_preprocess_training_batch(batch_i, batch_size):\n",
    "                train_neural_network(sess, optimizer, keep_probability, batch_features, batch_labels)\n",
    "            print('Epoch {:>2}, CIFAR-10 Batch {}:  '.format(epoch + 1, batch_i), end='')\n",
    "            print_stats(sess, batch_features, batch_labels, cost, accuracy)\n",
    "            \n",
    "    # Save Model\n",
    "    saver = tf.train.Saver()\n",
    "    save_path = saver.save(sess, save_model_path)"
   ]
  },
  {
   "cell_type": "markdown",
   "metadata": {
    "deletable": true,
    "editable": true
   },
   "source": [
    "# Checkpoint\n",
    "The model has been saved to disk.\n",
    "## Test Model\n",
    "Test your model against the test dataset.  This will be your final accuracy. You should have an accuracy greater than 50%. If you don't, keep tweaking the model architecture and parameters."
   ]
  },
  {
   "cell_type": "code",
   "execution_count": 74,
   "metadata": {
    "collapsed": false,
    "deletable": true,
    "editable": true
   },
   "outputs": [
    {
     "name": "stdout",
     "output_type": "stream",
     "text": [
      "Testing Accuracy: 0.6379549050632911\n",
      "\n"
     ]
    },
    {
     "data": {
      "image/png": "[encoded data removed]",
      "text/plain": [
       "<matplotlib.figure.Figure at 0x7fcdc65a7470>"
      ]
     },
     "metadata": {
      "image/png": {
       "height": 319,
       "width": 355
      }
     },
     "output_type": "display_data"
    }
   ],
   "source": [
    "\"\"\"\n",
    "DON'T MODIFY ANYTHING IN THIS CELL\n",
    "\"\"\"\n",
    "%matplotlib inline\n",
    "%config InlineBackend.figure_format = 'retina'\n",
    "\n",
    "import tensorflow as tf\n",
    "import pickle\n",
    "import helper\n",
    "import random\n",
    "\n",
    "# Set batch size if not already set\n",
    "try:\n",
    "    if batch_size:\n",
    "        pass\n",
    "except NameError:\n",
    "    batch_size = 64\n",
    "\n",
    "save_model_path = './image_classification'\n",
    "n_samples = 4\n",
    "top_n_predictions = 3\n",
    "\n",
    "def test_model():\n",
    "    \"\"\"\n",
    "    Test the saved model against the test dataset\n",
    "    \"\"\"\n",
    "\n",
    "    test_features, test_labels = pickle.load(open('preprocess_training.p', mode='rb'))\n",
    "    loaded_graph = tf.Graph()\n",
    "\n",
    "    with tf.Session(graph=loaded_graph) as sess:\n",
    "        # Load model\n",
    "        loader = tf.train.import_meta_graph(save_model_path + '.meta')\n",
    "        loader.restore(sess, save_model_path)\n",
    "\n",
    "        # Get Tensors from loaded model\n",
    "        loaded_x = loaded_graph.get_tensor_by_name('x:0')\n",
    "        loaded_y = loaded_graph.get_tensor_by_name('y:0')\n",
    "        loaded_keep_prob = loaded_graph.get_tensor_by_name('keep_prob:0')\n",
    "        loaded_logits = loaded_graph.get_tensor_by_name('logits:0')\n",
    "        loaded_acc = loaded_graph.get_tensor_by_name('accuracy:0')\n",
    "        \n",
    "        # Get accuracy in batches for memory limitations\n",
    "        test_batch_acc_total = 0\n",
    "        test_batch_count = 0\n",
    "        \n",
    "        for train_feature_batch, train_label_batch in helper.batch_features_labels(test_features, test_labels, batch_size):\n",
    "            test_batch_acc_total += sess.run(\n",
    "                loaded_acc,\n",
    "                feed_dict={loaded_x: train_feature_batch, loaded_y: train_label_batch, loaded_keep_prob: 1.0})\n",
    "            test_batch_count += 1\n",
    "\n",
    "        print('Testing Accuracy: {}\\n'.format(test_batch_acc_total/test_batch_count))\n",
    "\n",
    "        # Print Random Samples\n",
    "        random_test_features, random_test_labels = tuple(zip(*random.sample(list(zip(test_features, test_labels)), n_samples)))\n",
    "        random_test_predictions = sess.run(\n",
    "            tf.nn.top_k(tf.nn.softmax(loaded_logits), top_n_predictions),\n",
    "            feed_dict={loaded_x: random_test_features, loaded_y: random_test_labels, loaded_keep_prob: 1.0})\n",
    "        helper.display_image_predictions(random_test_features, random_test_labels, random_test_predictions)\n",
    "\n",
    "\n",
    "test_model()"
   ]
  },
  {
   "cell_type": "markdown",
   "metadata": {
    "deletable": true,
    "editable": true
   },
   "source": [
    "## Why 50-70% Accuracy?\n",
    "You might be wondering why you can't get an accuracy any higher. First things first, 50% isn't bad for a simple CNN.  Pure guessing would get you 10% accuracy. However, you might notice people are getting scores [well above 70%](http://rodrigob.github.io/are_we_there_yet/build/classification_datasets_results.html#43494641522d3130).  That's because we haven't taught you all there is to know about neural networks. We still need to cover a few more techniques.\n",
    "## Submitting This Project\n",
    "When submitting this project, make sure to run all the cells before saving the notebook.  Save the notebook file as \"dlnd_image_classification.ipynb\" and save it as a HTML file under \"File\" -> \"Download as\".  Include the \"helper.py\" and \"problem_unittests.py\" files in your submission."
   ]
  }
 ],
 "metadata": {
  "kernelspec": {
   "display_name": "Python 3",
   "language": "python",
   "name": "python3"
  },
  "language_info": {
   "codemirror_mode": {
    "name": "ipython",
    "version": 3
   },
   "file_extension": ".py",
   "mimetype": "text/x-python",
   "name": "python",
   "nbconvert_exporter": "python",
   "pygments_lexer": "ipython3",
   "version": "3.5.2"
  },
  "widgets": {
   "state": {},
   "version": "1.1.2"
  }
 },
 "nbformat": 4,
 "nbformat_minor": 0
}
